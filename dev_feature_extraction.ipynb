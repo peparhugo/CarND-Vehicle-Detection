{
 "cells": [
  {
   "cell_type": "markdown",
   "metadata": {},
   "source": [
    "# Feature Extraction Testing\n",
    "\n",
    "This file contains the testing of feature extractions. This is where prod_feature_extraction.py code was tested for the finalized functions."
   ]
  },
  {
   "cell_type": "markdown",
   "metadata": {},
   "source": [
    "## Define feature extraction functions\n"
   ]
  },
  {
   "cell_type": "code",
   "execution_count": 2,
   "metadata": {
    "collapsed": false
   },
   "outputs": [],
   "source": [
    "#cell block 1\n",
    "import numpy as np\n",
    "import cv2\n",
    "import matplotlib.pyplot as plt\n",
    "import matplotlib.image as mpimg\n",
    "from sklearn.preprocessing import StandardScaler\n",
    "import glob\n",
    "import os\n",
    "from sklearn.svm import LinearSVC\n",
    "from sklearn.preprocessing import StandardScaler\n",
    "from skimage.feature import hog\n",
    "\n",
    "def bin_spatial(img, size=(32, 32)):\n",
    "    \"\"\"\n",
    "    This function takes as input: an image called 'img' and a tuple of (x,y) called 'size'.\n",
    "    \n",
    "    It returns 'img' scaled to dimensions x by y as a xy by 1 array.\n",
    "    \"\"\"\n",
    "    # Use cv2.resize().ravel() to create the feature vector\n",
    "    features = cv2.resize(img, size).ravel() \n",
    "    # Return the feature vector\n",
    "    return features\n",
    " \n",
    "def color_hist(img, nbins=32, bins_range=(0, 256)):\n",
    "    \"\"\"\n",
    "    This function takes as input: a three channel image called 'img', a number of bins called 'nbins' and a range for the\n",
    "    bins called 'bin_range'.\n",
    "    \n",
    "    It returns 3 histograms, one for each channel of 'img', as a numpy array.\n",
    "    \"\"\"\n",
    "    # Compute the histogram of the color channels separately\n",
    "    channel1_hist = np.histogram(img[:,:,0], bins=nbins, range=bins_range)\n",
    "    channel2_hist = np.histogram(img[:,:,1], bins=nbins, range=bins_range)\n",
    "    channel3_hist = np.histogram(img[:,:,2], bins=nbins, range=bins_range)\n",
    "    # Concatenate the histograms into a single feature vector\n",
    "    hist_features = np.concatenate((channel1_hist[0], channel2_hist[0], channel3_hist[0]))\n",
    "    # Return the individual histograms, bin_centers and feature vector\n",
    "    return hist_features\n",
    "\n",
    "def get_hog_features(img, orient, pix_per_cell, cell_per_block, vis=False, feature_vec=True):\n",
    "    if vis == True:\n",
    "        features,hog_image=hog(img, orientations=orient,pixels_per_cell=(pix_per_cell,pix_per_cell),\n",
    "        cells_per_block=(cell_per_block,cell_per_block), transform_sqrt=False, \n",
    "                       visualise=vis, feature_vector=feature_vec)\n",
    "        \n",
    "        return features, hog_image\n",
    "    else:      \n",
    "        # Use skimage.hog() to get features only\n",
    "        features=hog(img, orientations=orient,pixels_per_cell=(pix_per_cell,pix_per_cell),\n",
    "        cells_per_block=(cell_per_block,cell_per_block), transform_sqrt=False, \n",
    "                       visualise=vis, feature_vector=feature_vec)\n",
    "        \n",
    "        return features\n",
    "def extract_features(imgs, cspace='RGB', spatial_size=(32, 32),\n",
    "                        hist_bins=32, hist_range=(0, 256), hog_params=(9,9,2),hog_size=(32,32)):\n",
    "    \"\"\"\n",
    "    This function takes as input: a list of image paths called 'imgs', a color space to convert images to\n",
    "    from the following list, ['RGB','HSV','LUV','HLS','YUV'], called 'cspace', a tuple of x and y values\n",
    "    to scale images to called 'spatial_size', a number to bins for a histogram called 'hist_bins' and a tuple\n",
    "    for the start and stop of a histogram called 'hist_range'.\n",
    "    \n",
    "    It returns a list of numpy arrays of bin features and color histogram features for each image in \n",
    "    'imgs'\n",
    "    \"\"\"\n",
    "    # Create a list to append feature vectors to\n",
    "    features = []\n",
    "    for img_path in imgs:\n",
    "        img=mpimg.imread(img_path)\n",
    "        if cspace != 'RGB':\n",
    "            if cspace == 'HSV':\n",
    "                feature_image = cv2.cvtColor(img, cv2.COLOR_RGB2HSV)\n",
    "            elif cspace == 'LUV':\n",
    "                feature_image = cv2.cvtColor(img, cv2.COLOR_RGB2LUV)\n",
    "            elif cspace == 'HLS':\n",
    "                feature_image = cv2.cvtColor(img, cv2.COLOR_RGB2HLS)\n",
    "            elif cspace == 'YUV':\n",
    "                feature_image = cv2.cvtColor(img, cv2.COLOR_RGB2YUV)\n",
    "        else: \n",
    "            feature_image = np.copy(img) \n",
    "        # apply color conversion if other than 'RGB'\n",
    "        bin_features=bin_spatial(feature_image,spatial_size)\n",
    "        color_hist_feature=color_hist(feature_image,nbins=hist_bins,bins_range=hist_range)\n",
    "        gray = cv2.cvtColor(image, cv2.COLOR_RGB2GRAY)\n",
    "        gray=cv2.resize(gray, hog_size)\n",
    "        # Define HOG parameters\n",
    "        orient = 9\n",
    "        pix_per_cell = 8\n",
    "        cell_per_block = 2\n",
    "        # Call our function with vis=True to see an image output\n",
    "        hog_features = get_hog_features(gray, orient, \n",
    "                                pix_per_cell, cell_per_block, \n",
    "                                vis=True, feature_vec=False)\n",
    "        features.append(np.concatenate((bin_features,color_hist_feature,hog_features)))\n",
    "    return features"
   ]
  },
  {
   "cell_type": "markdown",
   "metadata": {},
   "source": [
    "## Feature Extraction Parameter testing"
   ]
  },
  {
   "cell_type": "code",
   "execution_count": 6,
   "metadata": {
    "collapsed": false
   },
   "outputs": [
    {
     "name": "stdout",
     "output_type": "stream",
     "text": [
      "non-vehicles/Extras/extra1977.png\n"
     ]
    }
   ],
   "source": [
    "#cell block 2\n",
    "images = glob.glob('non-vehicles/**/*.png')\n",
    "for img_path in images[0:1]:\n",
    "    image=mpimg.imread(img_path)\n",
    "    gray = cv2.cvtColor(image, cv2.COLOR_RGB2GRAY)\n",
    "    gray=cv2.resize(gray, (64,64))\n",
    "    orient = 9\n",
    "    pix_per_cell = 8\n",
    "    cell_per_block = 2\n",
    "    # Call our function with vis=True to see an image output\n",
    "    features, hog_image = get_hog_features(gray, orient, \n",
    "                        pix_per_cell, cell_per_block, \n",
    "                        vis=True, feature_vec=False)\n",
    "    plt.imshow(hog_image, cmap='gray')\n",
    "    plt.title('Non-Car HOG Visualization')\n",
    "    plt.savefig(\"output_images/noncar_hog.jpg\")\n",
    "    plt.imshow(image, cmap='gray')\n",
    "    plt.title('Non-Car Visualization')\n",
    "    plt.savefig(\"output_images/noncar_hog.jpg\")\n",
    "    print(img_path)"
   ]
  },
  {
   "cell_type": "code",
   "execution_count": null,
   "metadata": {
    "collapsed": false
   },
   "outputs": [],
   "source": [
    "#cell block 3\n",
    "import cv2\n",
    "import numpy as np\n",
    "import matplotlib.pyplot as plt\n",
    "from mpl_toolkits.mplot3d import Axes3D\n",
    "\n",
    "def plot3d(pixels, colors_rgb,\n",
    "        axis_labels=list(\"RGB\"), axis_limits=[(0, 255), (0, 255), (0, 255)]):\n",
    "    \"\"\"Plot pixels in 3D.\"\"\"\n",
    "\n",
    "    # Create figure and 3D axes\n",
    "    fig = plt.figure(figsize=(8, 8))\n",
    "    ax = Axes3D(fig)\n",
    "\n",
    "    # Set axis limits\n",
    "    ax.set_xlim(*axis_limits[0])\n",
    "    ax.set_ylim(*axis_limits[1])\n",
    "    ax.set_zlim(*axis_limits[2])\n",
    "\n",
    "    # Set axis labels and sizes\n",
    "    ax.tick_params(axis='both', which='major', labelsize=14, pad=8)\n",
    "    ax.set_xlabel(axis_labels[0], fontsize=16, labelpad=16)\n",
    "    ax.set_ylabel(axis_labels[1], fontsize=16, labelpad=16)\n",
    "    ax.set_zlabel(axis_labels[2], fontsize=16, labelpad=16)\n",
    "\n",
    "    # Plot pixel values with colors given in colors_rgb\n",
    "    ax.scatter(\n",
    "        pixels[:, :, 0].ravel(),\n",
    "        pixels[:, :, 1].ravel(),\n",
    "        pixels[:, :, 2].ravel(),\n",
    "        c=colors_rgb.reshape((-1, 3)), edgecolors='none')\n",
    "\n",
    "    return ax  # return Axes3D object for further manipulation\n"
   ]
  },
  {
   "cell_type": "code",
   "execution_count": null,
   "metadata": {
    "collapsed": false
   },
   "outputs": [],
   "source": [
    "#cell block 4\n",
    "images = glob.glob('vehicles/**/*.png')\n",
    "for img_path in images[0:5]:\n",
    "    img=mpimg.imread(img_path)\n",
    "    plt.imshow(img)\n",
    "    plt.show()\n",
    "    # Select a small fraction of pixels to plot by subsampling it\n",
    "    scale = max(img.shape[0], img.shape[1], 64) / 64  # at most 64 rows and columns\n",
    "    img_small = cv2.resize(img, (np.int(img.shape[1] / scale), np.int(img.shape[0] / scale)), interpolation=cv2.INTER_NEAREST)\n",
    "\n",
    "    # Convert subsampled image to desired color space(s)\n",
    "    img_small_RGB = img_small*255  # OpenCV uses BGR, matplotlib likes RGB\n",
    "    img_small_HSV = cv2.cvtColor(img_small, cv2.COLOR_RGB2HSV)\n",
    "    img_small_rgb = img_small  # scaled to [0, 1], only for plotting\n",
    "    print(np.max(img_small_HSV[:,:,0]))\n",
    "    # Plot and show\n",
    "    plot3d(img_small_RGB, img_small_rgb)\n",
    "    plt.show()\n",
    "\n",
    "    plot3d(img_small_HSV, img_small_rgb, axis_labels=list(\"HSV\"),axis_limits=[(0, 360), (0, 1.0), (0, 1.0)])\n",
    "    plt.show()"
   ]
  },
  {
   "cell_type": "markdown",
   "metadata": {},
   "source": [
    "# Seaborn Feature Exploration"
   ]
  },
  {
   "cell_type": "code",
   "execution_count": null,
   "metadata": {
    "collapsed": true
   },
   "outputs": [],
   "source": [
    "#cell block 5\n",
    "import seaborn as sns\n",
    "import pandas as pd\n",
    "from scipy import stats, integrate"
   ]
  },
  {
   "cell_type": "code",
   "execution_count": null,
   "metadata": {
    "collapsed": false
   },
   "outputs": [],
   "source": [
    "#cell block 6\n",
    "#import sample of car and non-car images\n",
    "images = glob.glob('vehicles/**/*.png')\n",
    "non_images = glob.glob('non-vehicles/**/*.png')\n",
    "car_image=[]\n",
    "noncar_image=[]\n",
    "hog_car_features=[]\n",
    "hog_noncar_features=[]\n",
    "flat_car_images=[]\n",
    "flat_non_images=[]\n",
    "car=[]\n",
    "non_car=[]\n",
    "for img_path in images[0:100]:\n",
    "    image=mpimg.imread(img_path)\n",
    "    org_image=np.copy(image)\n",
    "    image=cv2.cvtColor(image, cv2.COLOR_RGB2YUV)\n",
    "    car_image.append(image)\n",
    "    flat_car_images.append(image.ravel())\n",
    "    gray = cv2.cvtColor(org_image, cv2.COLOR_RGB2GRAY)\n",
    "    gray=cv2.resize(gray, (64,64))\n",
    "    orient = 9\n",
    "    pix_per_cell = 8\n",
    "    cell_per_block = 2\n",
    "    # Call our function with vis=True to see an image output\n",
    "    \n",
    "    car.append(1)\n",
    "for img_path in non_images[0:100]:\n",
    "    image=mpimg.imread(img_path)\n",
    "    org_image=np.copy(image)\n",
    "    image=cv2.cvtColor(image, cv2.COLOR_RGB2YUV)\n",
    "    noncar_image.append(image)\n",
    "    flat_non_images.append(image.ravel())\n",
    "    gray = cv2.cvtColor(org_image, cv2.COLOR_RGB2GRAY)\n",
    "    gray=cv2.resize(gray, (64,64))\n",
    "    orient = 9\n",
    "    pix_per_cell = 8\n",
    "    cell_per_block = 2\n",
    "\n",
    "    non_car.append(1)"
   ]
  },
  {
   "cell_type": "code",
   "execution_count": null,
   "metadata": {
    "collapsed": false
   },
   "outputs": [],
   "source": [
    "#cell block 7\n",
    "flat_images = np.vstack((flat_car_images, flat_non_images)).astype(np.float64)\n",
    "hog_features = np.vstack((hog_car_features, hog_noncar_features)).astype(np.float64)\n",
    "image_type=np.hstack((car, non_car))\n",
    "images_array=np.vstack((car_image, noncar_image)).astype(np.float64)\n",
    "print(images_array.ravel().shape)\n",
    "print(image_type.shape)"
   ]
  },
  {
   "cell_type": "code",
   "execution_count": null,
   "metadata": {
    "collapsed": false
   },
   "outputs": [],
   "source": [
    "#cell block 8\n",
    "sns.set(color_codes=True)\n",
    "sns.distplot(images_array[:,:,:,2].ravel(),bins=16,kde=False)\n",
    "plt.show()"
   ]
  },
  {
   "cell_type": "code",
   "execution_count": null,
   "metadata": {
    "collapsed": false
   },
   "outputs": [],
   "source": [
    "#cell block 9\n",
    "car_channel0=np.array(car_image)[:,:,:,0].ravel()\n",
    "car_channel1=np.array(car_image)[:,:,:,1].ravel()\n",
    "car_channel2=np.array(car_image)[:,:,:,2].ravel()\n",
    "\n",
    "ncar_channel0=np.array(noncar_image)[:,:,:,0].ravel()\n",
    "ncar_channel1=np.array(noncar_image)[:,:,:,1].ravel()\n",
    "ncar_channel2=np.array(noncar_image)[:,:,:,2].ravel()\n",
    "y = np.hstack((np.ones(len(car_channel0)), np.zeros(len(ncar_channel0))))\n",
    "x0 = np.hstack((car_channel0, ncar_channel0))\n",
    "x1 = np.hstack((car_channel1, ncar_channel1))\n",
    "x2 = np.hstack((car_channel2, ncar_channel2))\n"
   ]
  },
  {
   "cell_type": "code",
   "execution_count": null,
   "metadata": {
    "collapsed": false
   },
   "outputs": [],
   "source": [
    "#cell block 10\n",
    "sns.jointplot(x=car_channel1,y=car_channel2,color='y',marginal_kws=dict(bins=20, rug=True))\n",
    "sns.jointplot(x=ncar_channel1,y=ncar_channel2,color='g',marginal_kws=dict(bins=20, rug=True))\n",
    "sns.jointplot(x=car_channel0,y=car_channel2,color='y',marginal_kws=dict(bins=20, rug=True))\n",
    "sns.jointplot(x=ncar_channel0,y=ncar_channel2,color='g',marginal_kws=dict(bins=20, rug=True))\n",
    "sns.jointplot(x=car_channel0,y=car_channel1,color='y',marginal_kws=dict(bins=20, rug=True))\n",
    "sns.jointplot(x=ncar_channel0,y=ncar_channel1,color='g',marginal_kws=dict(bins=20, rug=True))\n",
    "plt.show()"
   ]
  },
  {
   "cell_type": "code",
   "execution_count": null,
   "metadata": {
    "collapsed": false
   },
   "outputs": [],
   "source": [
    "#cell block 11\n",
    "#test hog features using different parameters and color spaces\n",
    "images = glob.glob('vehicles/**/*.png')\n",
    "non_images = glob.glob('non-vehicles/**/*.png')\n",
    "hog_car0=[]\n",
    "hog_noncar0=[]\n",
    "hog_car1=[]\n",
    "hog_noncar1=[]\n",
    "hog_car2=[]\n",
    "hog_noncar2=[]\n",
    "for img_path in images:\n",
    "    image=mpimg.imread(img_path)\n",
    "    gray = cv2.cvtColor(image, cv2.COLOR_RGB2HSV)\n",
    "    #gray=image\n",
    "    orient = 9\n",
    "    pix_per_cell = 8\n",
    "    cell_per_block = 2\n",
    "    # Call our function with vis=True to see an image output\n",
    "    features0 = get_hog_features(gray[:,:,0], orient, \n",
    "                        pix_per_cell, cell_per_block, \n",
    "                        vis=False, feature_vec=True)\n",
    "    features1 = get_hog_features(gray[:,:,1], orient, \n",
    "                        pix_per_cell, cell_per_block, \n",
    "                        vis=False, feature_vec=True)\n",
    "    features2 = get_hog_features(gray[:,:,2], orient, \n",
    "                        pix_per_cell, cell_per_block, \n",
    "                        vis=False, feature_vec=True)\n",
    "    hog_car0.append(features0)\n",
    "    hog_car1.append(features1)\n",
    "    hog_car2.append(features2)\n",
    "for img_path in non_images:\n",
    "    image=mpimg.imread(img_path)\n",
    "    gray = cv2.cvtColor(image, cv2.COLOR_RGB2HSV)\n",
    "    #gray=image\n",
    "    orient = 9\n",
    "    pix_per_cell = 8\n",
    "    cell_per_block = 2\n",
    "    # Call our function with vis=True to see an image output\n",
    "    features0 = get_hog_features(gray[:,:,0], orient, \n",
    "                        pix_per_cell, cell_per_block, \n",
    "                        vis=False, feature_vec=True)\n",
    "    features1 = get_hog_features(gray[:,:,1], orient, \n",
    "                        pix_per_cell, cell_per_block, \n",
    "                        vis=False, feature_vec=True)\n",
    "    features2 = get_hog_features(gray[:,:,2], orient, \n",
    "                        pix_per_cell, cell_per_block, \n",
    "                        vis=False, feature_vec=True)\n",
    "    hog_noncar0.append(features0)\n",
    "    hog_noncar1.append(features1)\n",
    "    hog_noncar2.append(features2)\n",
    "car_hog0=np.array(hog_car0).ravel()\n",
    "car_hog1=np.array(hog_car1).ravel()\n",
    "car_hog2=np.array(hog_car2).ravel()\n",
    "\n",
    "ncar_hog0=np.array(hog_noncar0).ravel()\n",
    "ncar_hog1=np.array(hog_noncar1).ravel()\n",
    "ncar_hog2=np.array(hog_noncar2).ravel()\n",
    "y_hog = np.hstack((np.ones(len(hog_car0)), np.zeros(len(hog_noncar0))))\n"
   ]
  },
  {
   "cell_type": "code",
   "execution_count": null,
   "metadata": {
    "collapsed": false
   },
   "outputs": [],
   "source": [
    "#cell block 12\n",
    "sns.boxplot(x=y_hog,y=hog)\n",
    "plt.show()"
   ]
  },
  {
   "cell_type": "code",
   "execution_count": null,
   "metadata": {
    "collapsed": false
   },
   "outputs": [],
   "source": [
    "#cell block 13\n",
    "sns.jointplot(x=car_hog1,y=car_hog2,color='y')\n",
    "sns.jointplot(x=ncar_hog1,y=ncar_hog2,color='g')\n",
    "sns.jointplot(x=car_hog0,y=car_hog2,color='y')\n",
    "sns.jointplot(x=ncar_hog0,y=ncar_hog2,color='g')\n",
    "sns.jointplot(x=car_hog0,y=car_hog1,color='y')\n",
    "sns.jointplot(x=ncar_hog0,y=ncar_hog1,color='g')\n",
    "plt.show()"
   ]
  },
  {
   "cell_type": "code",
   "execution_count": null,
   "metadata": {
    "collapsed": false
   },
   "outputs": [],
   "source": [
    "#cell block 14\n",
    "images = glob.glob('vehicles/**/*.png')\n",
    "non_images = glob.glob('non-vehicles/**/*.png')\n",
    "print(len(images))\n",
    "print(len(non_images))"
   ]
  },
  {
   "cell_type": "code",
   "execution_count": null,
   "metadata": {
    "collapsed": true
   },
   "outputs": [],
   "source": []
  }
 ],
 "metadata": {
  "anaconda-cloud": {},
  "kernelspec": {
   "display_name": "Python [conda env:carnd-term1]",
   "language": "python",
   "name": "conda-env-carnd-term1-py"
  },
  "language_info": {
   "codemirror_mode": {
    "name": "ipython",
    "version": 3
   },
   "file_extension": ".py",
   "mimetype": "text/x-python",
   "name": "python",
   "nbconvert_exporter": "python",
   "pygments_lexer": "ipython3",
   "version": "3.5.2"
  }
 },
 "nbformat": 4,
 "nbformat_minor": 1
}
